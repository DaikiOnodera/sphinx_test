{
 "cells": [
  {
   "cell_type": "markdown",
   "metadata": {},
   "source": [
    "# Auto Encoder\n",
    "<p class=\"summary\"> This tutorial introduces the auto encoder technique.</p> \n",
    "Auto encoders can be useful for feature extraction and pretraining deep neural networks."
   ]
  },
  {
   "cell_type": "markdown",
   "metadata": {},
   "source": [
    "The following two auto encoder flavors will be introduced: \n",
    "\n",
    "- Vanilla auto encoder\n",
    "- Denoising auto encoder\n",
    "\n",
    "Also. we'll pre-train a neural network using both methods and compare their classification results.\n",
    "\n",
    "The auto encoder is an unsupervised feature learning algorithm. There is one output layer for each output layer, with hidden layers in between. Having the algorithm produce the same data which it was given, allows it to learn to reconstruct the data.\n",
    "\n",
    "In general, the hidden layers' unit size will be smaller than that of the input layer. This structure causes the auto encoder to compress the information within the hidden layers. \n",
    "\n",
    "Once the training is complete, the hidden layer weights may be used as pretrained weights for other neural networks.\n",
    "\n",
    "The compressed data may also be used by other machine learning algorithms.\n",
    "\n",
    "![](ae01.png)\n"
   ]
  },
  {
   "cell_type": "markdown",
   "metadata": {},
   "source": [
    "## Requirements\n",
    "\n",
    "In this tutorial, following modules are required.\n",
    "\n",
    "- Numpy 1.12.1\n",
    "- Matplotlib 2.0.2\n",
    "- Scikit-learn 0.18.2"
   ]
  },
  {
   "cell_type": "code",
   "execution_count": 1,
   "metadata": {
    "collapsed": true
   },
   "outputs": [],
   "source": [
    "import numpy as np\n",
    "np.seterr(all=\"ignore\")\n",
    "\n",
    "import matplotlib.pyplot as plt\n",
    "%matplotlib inline\n",
    "\n",
    "from sklearn.datasets import fetch_mldata\n",
    "from sklearn.model_selection import train_test_split\n",
    "from sklearn.preprocessing import LabelBinarizer\n",
    "from sklearn.metrics import classification_report\n",
    "\n",
    "import renom as rm\n",
    "from renom.optimizer import Adam\n",
    "from renom.utility.initializer import Gaussian"
   ]
  },
  {
   "cell_type": "markdown",
   "metadata": {},
   "source": [
    "## Load Data\n",
    "\n",
    "We'll use the MNIST dataset to demonstrate how to use the auto enconder. You can use the download method provided in sklearn, acquire the data yourself from the following website:\n",
    "\n",
    "● THE MNIST DATABASE  \n",
    "http://yann.lecun.com/exdb/mnist/\n",
    "\n",
    "After downloading the data, we need to split it into training and test sets."
   ]
  },
  {
   "cell_type": "code",
   "execution_count": 2,
   "metadata": {
    "collapsed": true
   },
   "outputs": [],
   "source": [
    "# 'data_path' must point to the directory containing the data folder.\n",
    "data_path = \"../dataset\"\n",
    "mnist = fetch_mldata('MNIST original', data_home=data_path)\n",
    "\n",
    "X = mnist.data\n",
    "y = mnist.target\n",
    "\n",
    "# Binarize (\"one-hot\") the image data.\n",
    "X = X.astype(np.float32)\n",
    "y = y.astype(np.float32)\n",
    "X = np.array(X > 128, dtype=np.float32)\n",
    "\n",
    "x_train, x_test, y_train, y_test = train_test_split(X, y, test_size=0.1)\n",
    "\n",
    "binarizer = LabelBinarizer()\n",
    "label_train = binarizer.fit_transform(y_train)\n",
    "label_test = binarizer.transform(y_test)\n",
    "\n",
    "# Training data size.\n",
    "N = len(x_train)"
   ]
  },
  {
   "cell_type": "markdown",
   "metadata": {},
   "source": [
    "## Vanilla Auto Encoder\n",
    "\n",
    "For the first example, we'll build a vanilla auto encoder model using a sequential model.\n",
    "Remember, the main principle of an auto encoder is that we have the same number of units in the input and output layers.\n",
    "\n",
    "In this case, because the MNIST images are 28x28 pixels each, the auto encoder's input layer\n",
    "and output sizes will both be 784(= 28x28).\n",
    "\n",
    "\n",
    "### Model Definition\n",
    "\n",
    "The model consists of 2 layers, both using the relu activation function.\n",
    "\n",
    "We use the adam[1] gradient decent algorithm."
   ]
  },
  {
   "cell_type": "code",
   "execution_count": 3,
   "metadata": {
    "collapsed": true
   },
   "outputs": [],
   "source": [
    "model_ae = rm.Sequential([\n",
    "        rm.Dense(100),\n",
    "        rm.Relu(),\n",
    "        rm.Dense(784),\n",
    "    ])\n",
    "optimizer = Adam()"
   ]
  },
  {
   "cell_type": "markdown",
   "metadata": {},
   "source": [
    "### Train Loop\n",
    "\n",
    "The training loop is defined below. The loss function in this example is the cross entropy between the raw digit data and the reconstructed image.\n",
    "\n",
    "After the training loop finishes, we'll display the raw digit data along with the reconstructed image.\n",
    "At least by eye, we can confirm that the reconstructed image has same shape as raw image."
   ]
  },
  {
   "cell_type": "code",
   "execution_count": 4,
   "metadata": {},
   "outputs": [
    {
     "name": "stdout",
     "output_type": "stream",
     "text": [
      "epoch 00 train_loss:51.009064\n",
      "epoch 02 train_loss:21.207394\n",
      "epoch 04 train_loss:14.829244\n",
      "epoch 06 train_loss:12.308509\n",
      "epoch 08 train_loss:11.139716\n"
     ]
    },
    {
     "data": {
      "image/png": "[encoded data removed]",
      "text/plain": [
       "<matplotlib.figure.Figure at 0x7fadfbaf2eb8>"
      ]
     },
     "metadata": {},
     "output_type": "display_data"
    }
   ],
   "source": [
    "batch = 64\n",
    "epoch = 10\n",
    "\n",
    "for i in range(epoch):\n",
    "    for j in range(N//batch):\n",
    "        train_batch=x_train[j*batch:(j+1)*batch]\n",
    "        with model_ae.train():\n",
    "            z = model_ae(train_batch)\n",
    "            loss = rm.sigmoid_cross_entropy(z, train_batch)\n",
    "        loss.grad().update(optimizer)\n",
    "    if i%2 == 0:print(\"epoch %02d train_loss:%f\"%(i, loss))\n",
    "\n",
    "# Show raw img and reconstructed img.\n",
    "test_img = x_test[0]\n",
    "fig, ax = plt.subplots(ncols=2, nrows=1, figsize=(8, 6))\n",
    "ax[0].set_title(\"Raw image\")\n",
    "ax[0].imshow(test_img.reshape(28, 28), cmap=\"gray\")\n",
    "ax[1].set_title(\"Reconstructed image\")\n",
    "ax[1].imshow(rm.sigmoid(model_ae(test_img)).reshape(28, 28), cmap=\"gray\")\n",
    "plt.show()"
   ]
  },
  {
   "cell_type": "markdown",
   "metadata": {},
   "source": [
    "## Denoising auto encoder\n",
    "\n",
    "The second flavor we'll demonstrate is the Denoising auto encoder[2], which is actually quite similar to the vanilla auto encoder. The only difference is that we provide noisy data as the input data.\n",
    "\n",
    "Gaussian noise or salt and pepper noise are the generally used distributions.\n",
    "\n",
    "In this case, we add salt and pepper noise. Specifically, we randomly set pixel values to 0 with a probability of 50%."
   ]
  },
  {
   "cell_type": "code",
   "execution_count": 5,
   "metadata": {},
   "outputs": [
    {
     "data": {
      "image/png": "[encoded data removed]",
      "text/plain": [
       "<matplotlib.figure.Figure at 0x7fadfbaf2208>"
      ]
     },
     "metadata": {},
     "output_type": "display_data"
    }
   ],
   "source": [
    "test_img = x_test[0].reshape(28, 28)\n",
    "sp_noise = np.array(np.random.rand(*test_img.shape) > 0.5, dtype=np.bool)\n",
    "fig, ax = plt.subplots(ncols=2, nrows=1, figsize=(8, 6))\n",
    "ax[0].set_title(\"Raw image\")\n",
    "ax[0].imshow(test_img, cmap=\"gray\")\n",
    "ax[1].set_title(\"Added salt and pepper noise\")\n",
    "ax[1].imshow(test_img*sp_noise, cmap=\"gray\")\n",
    "plt.show()"
   ]
  },
  {
   "cell_type": "markdown",
   "metadata": {},
   "source": [
    "### Model definition\n",
    "\n",
    "The model definition is exactly the same as with the vanilla auto encoder."
   ]
  },
  {
   "cell_type": "code",
   "execution_count": 6,
   "metadata": {
    "collapsed": true
   },
   "outputs": [],
   "source": [
    "model_denoise_ae = rm.Sequential([\n",
    "        rm.Dense(100),\n",
    "        rm.Relu(),\n",
    "        rm.Dense(784),\n",
    "    ])\n",
    "optimizer = Adam()"
   ]
  },
  {
   "cell_type": "markdown",
   "metadata": {
    "collapsed": true
   },
   "source": [
    "### Train Data\n",
    "\n",
    "The training loop as well is unchanged (except that we substitute in the noised data.)"
   ]
  },
  {
   "cell_type": "code",
   "execution_count": 7,
   "metadata": {},
   "outputs": [
    {
     "name": "stdout",
     "output_type": "stream",
     "text": [
      "epoch 00 train_loss:91.471199\n",
      "epoch 02 train_loss:73.140144\n",
      "epoch 04 train_loss:72.041679\n",
      "epoch 06 train_loss:71.260941\n",
      "epoch 08 train_loss:69.084564\n"
     ]
    },
    {
     "data": {
      "image/png": "[encoded data removed]",
      "text/plain": [
       "<matplotlib.figure.Figure at 0x7fae1674a780>"
      ]
     },
     "metadata": {},
     "output_type": "display_data"
    }
   ],
   "source": [
    "batch = 64\n",
    "epoch = 10\n",
    "\n",
    "for i in range(epoch):\n",
    "    for j in range(N//batch):\n",
    "        train_batch=x_train[j*batch:(j+1)*batch]\n",
    "        with model_denoise_ae.train():\n",
    "            sp_noise = np.array(np.random.rand(*train_batch.shape) > 0.5, dtype=np.bool)\n",
    "            z = model_denoise_ae(train_batch*sp_noise)\n",
    "            loss = rm.sigmoid_cross_entropy(z, train_batch)\n",
    "        loss.grad().update(optimizer)\n",
    "    if i%2 == 0:print(\"epoch %02d train_loss:%f\"%(i, loss))\n",
    "\n",
    "# Show raw img and reconstructed img.\n",
    "test_img = x_test[0]\n",
    "fig, ax = plt.subplots(ncols=2, nrows=1, figsize=(8, 6))\n",
    "ax[0].set_title(\"Raw image\")\n",
    "ax[0].imshow(test_img.reshape(28, 28), cmap=\"gray\")\n",
    "ax[1].set_title(\"Reconstructed image\")\n",
    "ax[1].imshow(rm.sigmoid(model_denoise_ae(test_img)).reshape(28, 28), cmap=\"gray\")\n",
    "plt.show()"
   ]
  },
  {
   "cell_type": "markdown",
   "metadata": {},
   "source": [
    "## Comparison of 2 pretrained model\n",
    "\n",
    "In this section, we compare two pretrained models, using the two auto encoder flavors described above.\n",
    "\n",
    "The input data here is the same noised data described above. We can confirm that the pretrained weights complement salt and pepper noise, leading to higher generalization performance.\n",
    "\n",
    "We build a classification model below. These two models use the same hyper parameters, but different pretrained weights (coming from the two auto encoder examples above.)"
   ]
  },
  {
   "cell_type": "code",
   "execution_count": 8,
   "metadata": {
    "collapsed": true
   },
   "outputs": [],
   "source": [
    "pretrained_ae = rm.Sequential([\n",
    "        rm.Dense(100),\n",
    "        rm.Relu(),\n",
    "        rm.Dense(10),\n",
    "    ])\n",
    "\n",
    "pretrained_dae = rm.Sequential([\n",
    "        rm.Dense(100),\n",
    "        rm.Relu(),\n",
    "        rm.Dense(10),\n",
    "    ])\n",
    "\n",
    "# Copy first weight parameters of first layer.\n",
    "pretrained_ae[0].params = model_ae[0].params\n",
    "pretrained_dae[0].params = model_denoise_ae[0].params\n",
    "\n",
    "opt1 = Adam()\n",
    "opt2 = Adam()"
   ]
  },
  {
   "cell_type": "markdown",
   "metadata": {},
   "source": [
    "### Train loop\n",
    "\n",
    "Now we can train the classification models.   "
   ]
  },
  {
   "cell_type": "code",
   "execution_count": 9,
   "metadata": {},
   "outputs": [
    {
     "name": "stdout",
     "output_type": "stream",
     "text": [
      "epoch:00 AE_loss:0.561384 AE_validation:0.665277 DAE_loss:0.377859 DAE_validation:0.400579\n",
      "epoch:02 AE_loss:0.330235 AE_validation:0.532445 DAE_loss:0.231801 DAE_validation:0.270267\n",
      "epoch:04 AE_loss:0.377993 AE_validation:0.477424 DAE_loss:0.220577 DAE_validation:0.202235\n",
      "epoch:06 AE_loss:0.284053 AE_validation:0.381976 DAE_loss:0.096848 DAE_validation:0.167779\n",
      "epoch:08 AE_loss:0.256713 AE_validation:0.295453 DAE_loss:0.161372 DAE_validation:0.152546\n",
      "epoch:10 AE_loss:0.186659 AE_validation:0.248264 DAE_loss:0.088071 DAE_validation:0.142935\n",
      "epoch:12 AE_loss:0.280057 AE_validation:0.224904 DAE_loss:0.119961 DAE_validation:0.137183\n",
      "epoch:14 AE_loss:0.178850 AE_validation:0.207520 DAE_loss:0.071178 DAE_validation:0.134815\n",
      "epoch:16 AE_loss:0.141422 AE_validation:0.180905 DAE_loss:0.076573 DAE_validation:0.125874\n",
      "epoch:18 AE_loss:0.116089 AE_validation:0.172424 DAE_loss:0.123805 DAE_validation:0.120988\n",
      "epoch:20 AE_loss:0.109084 AE_validation:0.155472 DAE_loss:0.034230 DAE_validation:0.121413\n",
      "epoch:22 AE_loss:0.082346 AE_validation:0.151591 DAE_loss:0.132201 DAE_validation:0.118642\n",
      "epoch:24 AE_loss:0.178457 AE_validation:0.146817 DAE_loss:0.138417 DAE_validation:0.122302\n",
      "epoch:26 AE_loss:0.050109 AE_validation:0.145061 DAE_loss:0.026600 DAE_validation:0.115971\n",
      "epoch:28 AE_loss:0.118149 AE_validation:0.145276 DAE_loss:0.029089 DAE_validation:0.123674\n",
      "epoch:30 AE_loss:0.190159 AE_validation:0.132439 DAE_loss:0.167682 DAE_validation:0.114807\n",
      "epoch:32 AE_loss:0.064115 AE_validation:0.137775 DAE_loss:0.043263 DAE_validation:0.120619\n",
      "epoch:34 AE_loss:0.089808 AE_validation:0.134122 DAE_loss:0.035184 DAE_validation:0.121039\n",
      "epoch:36 AE_loss:0.083881 AE_validation:0.129205 DAE_loss:0.051456 DAE_validation:0.113429\n",
      "epoch:38 AE_loss:0.042798 AE_validation:0.131029 DAE_loss:0.043206 DAE_validation:0.112431\n"
     ]
    }
   ],
   "source": [
    "batch = 64\n",
    "epoch = 40\n",
    "\n",
    "train_loss1 = []\n",
    "train_loss2 = []\n",
    "validation_loss1 = []\n",
    "validation_loss2 = []\n",
    "\n",
    "for i in range(epoch):\n",
    "    for j in range(N//batch):\n",
    "        train_batch = x_train[j*batch:(j+1)*batch]\n",
    "        response_batch = label_train[j*batch:(j+1)*batch].astype(np.float32)\n",
    "        sp_noise = np.array(np.random.rand(*train_batch.shape) > 0.5)\n",
    "        train_batch = train_batch*sp_noise\n",
    "\n",
    "        with pretrained_ae.train():\n",
    "            z = pretrained_ae(train_batch)\n",
    "            loss1 = rm.softmax_cross_entropy(z, response_batch)\n",
    "            \n",
    "        with pretrained_dae.train():\n",
    "            z = pretrained_dae(train_batch)\n",
    "            loss2 = rm.softmax_cross_entropy(z, response_batch)\n",
    "            \n",
    "        loss1.grad().update(opt1)\n",
    "        loss2.grad().update(opt2)\n",
    "    \n",
    "    validation1 = rm.softmax_cross_entropy(pretrained_ae(x_test), label_test)\n",
    "    validation2 = rm.softmax_cross_entropy(pretrained_dae(x_test), label_test)\n",
    "    \n",
    "    train_loss1.append(loss1)\n",
    "    train_loss2.append(loss2)\n",
    "    validation_loss1.append(validation1)\n",
    "    validation_loss2.append(validation2)\n",
    "    \n",
    "    strs = \"epoch:%02d AE_loss:%f AE_validation:%f DAE_loss:%f DAE_validation:%f\"\n",
    "    if i%2 == 0:print(strs%(i, loss1, validation1, loss2, validation2))\n"
   ]
  },
  {
   "cell_type": "markdown",
   "metadata": {},
   "source": [
    "## Learning Curve\n",
    "\n",
    "Noe let's have a look at the two models' learning curves. The model pretrained with a denoising auto encoder appears to yield a lower validation error."
   ]
  },
  {
   "cell_type": "code",
   "execution_count": 10,
   "metadata": {},
   "outputs": [
    {
     "data": {
      "image/png": "[encoded data removed]",
      "text/plain": [
       "<matplotlib.figure.Figure at 0x7fade8e69710>"
      ]
     },
     "metadata": {},
     "output_type": "display_data"
    }
   ],
   "source": [
    "plt.figure(figsize=(8, 5))\n",
    "plt.grid()\n",
    "plt.plot(train_loss1, label=\"AE_train_loss\", linestyle=\"--\", linewidth=3)\n",
    "plt.plot(validation_loss1, label=\"AE_validation_loss\", linewidth=3)\n",
    "plt.plot(train_loss2, label=\"DAE_train_loss\", linestyle=\"--\", linewidth=3)\n",
    "plt.plot(validation_loss2, label=\"DAE_validation_loss\", linewidth=3)\n",
    "plt.ylabel(\"loss\")\n",
    "plt.xlabel(\"epoch\")\n",
    "plt.legend()\n",
    "plt.show()"
   ]
  },
  {
   "cell_type": "code",
   "execution_count": 11,
   "metadata": {},
   "outputs": [
    {
     "name": "stdout",
     "output_type": "stream",
     "text": [
      "///////////// AE pretrained model //////////////\n",
      "             precision    recall  f1-score   support\n",
      "\n",
      "          0       0.97      0.99      0.98       685\n",
      "          1       0.98      0.99      0.99       809\n",
      "          2       0.97      0.96      0.97       723\n",
      "          3       0.94      0.98      0.96       695\n",
      "          4       0.99      0.97      0.98       660\n",
      "          5       0.99      0.93      0.96       646\n",
      "          6       0.97      0.99      0.98       688\n",
      "          7       0.98      0.98      0.98       756\n",
      "          8       0.97      0.97      0.97       668\n",
      "          9       0.96      0.95      0.96       670\n",
      "\n",
      "avg / total       0.97      0.97      0.97      7000\n",
      "\n",
      "///////////// DAE pretrained model //////////////\n",
      "             precision    recall  f1-score   support\n",
      "\n",
      "          0       0.98      0.99      0.99       685\n",
      "          1       0.98      0.99      0.99       809\n",
      "          2       0.97      0.98      0.97       723\n",
      "          3       0.95      0.97      0.96       695\n",
      "          4       0.99      0.97      0.98       660\n",
      "          5       0.99      0.93      0.96       646\n",
      "          6       0.97      0.99      0.98       688\n",
      "          7       0.98      0.97      0.98       756\n",
      "          8       0.96      0.97      0.96       668\n",
      "          9       0.97      0.97      0.97       670\n",
      "\n",
      "avg / total       0.97      0.97      0.97      7000\n",
      "\n"
     ]
    }
   ],
   "source": [
    "prediction1 = np.argmax(pretrained_ae(x_test).as_ndarray(), axis = 1)\n",
    "prediction2 = np.argmax(pretrained_dae(x_test).as_ndarray(), axis = 1)\n",
    "\n",
    "print(\"///////////// AE pretrained model //////////////\")\n",
    "print(classification_report(np.argmax(label_test, axis = 1), prediction1))\n",
    "\n",
    "print(\"///////////// DAE pretrained model //////////////\")\n",
    "print(classification_report(np.argmax(label_test, axis = 1), prediction2))"
   ]
  },
  {
   "cell_type": "markdown",
   "metadata": {},
   "source": [
    "### References\n",
    "\n",
    "[1] Diederik P. Kingma, Jimmy Ba. Adam: A Method for Stochastic Optimization. 3rd International Conference for Learning Representations, San Diego, 2015.   \n",
    "https://arxiv.org/abs/1412.6980\n",
    "\n",
    "\n",
    "[2] Pascal Vincent, Hugo Larochelle, Yoshua Bengio and Pierre-Antoine Manzagol. Extracting and Composing Robust Features with Denoising Autoencoders. Proc. of ICML, 2008.  \n",
    "http://www.iro.umontreal.ca/~vincentp/Publications/vincent_icml_2008.pdf"
   ]
  }
 ],
 "metadata": {
  "anaconda-cloud": {},
  "kernelspec": {
   "display_name": "Python 3",
   "language": "python",
   "name": "python3"
  },
  "language_info": {
   "codemirror_mode": {
    "name": "ipython",
    "version": 3
   },
   "file_extension": ".py",
   "mimetype": "text/x-python",
   "name": "python",
   "nbconvert_exporter": "python",
   "pygments_lexer": "ipython3",
   "version": "3.6.2"
  }
 },
 "nbformat": 4,
 "nbformat_minor": 2
}
